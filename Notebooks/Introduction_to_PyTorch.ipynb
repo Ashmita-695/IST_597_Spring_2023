{
  "nbformat": 4,
  "nbformat_minor": 0,
  "metadata": {
    "colab": {
      "provenance": []
    },
    "kernelspec": {
      "name": "python3",
      "display_name": "Python 3"
    },
    "language_info": {
      "name": "python"
    },
    "accelerator": "GPU",
    "gpuClass": "standard"
  },
  "cells": [
    {
      "cell_type": "markdown",
      "source": [
        "<h1><center>IST 597 Foundations of Deep Learning</center></h1>\n",
        "\n",
        "---\n",
        "\n",
        "<h2><center>Introduction to PyTorch</center><h2>\n",
        "<h3><center>Neisarg Dave</center><h3>"
      ],
      "metadata": {
        "id": "QxXNCKJUK9g3"
      }
    },
    {
      "cell_type": "markdown",
      "source": [
        "PyTorch Tutorials:\n",
        "+ https://pytorch.org/tutorials/beginner/basics/quickstart_tutorial.html\n",
        "+ https://pytorch.org/tutorials/index.html\n"
      ],
      "metadata": {
        "id": "rA9YkunwoMtF"
      }
    },
    {
      "cell_type": "code",
      "source": [
        "import torch"
      ],
      "metadata": {
        "id": "KGhWzBHDLDcq"
      },
      "execution_count": 1,
      "outputs": []
    },
    {
      "cell_type": "code",
      "source": [
        "# Define Tensors:\n",
        "\n",
        "x = torch.tensor([2,6,3,6,9,5,2,6,5,3])\n",
        "print(x)\n",
        "print(x.shape)\n",
        "print(x.size())\n",
        "print(x.device)\n",
        "print(x.type())"
      ],
      "metadata": {
        "colab": {
          "base_uri": "https://localhost:8080/"
        },
        "id": "8MA2J61DLJSP",
        "outputId": "237058ab-1825-4554-e3c9-1e79729883a6"
      },
      "execution_count": 2,
      "outputs": [
        {
          "output_type": "stream",
          "name": "stdout",
          "text": [
            "tensor([2, 6, 3, 6, 9, 5, 2, 6, 5, 3])\n",
            "torch.Size([10])\n",
            "torch.Size([10])\n",
            "cpu\n",
            "torch.LongTensor\n"
          ]
        }
      ]
    },
    {
      "cell_type": "code",
      "source": [
        "x = x.cuda()"
      ],
      "metadata": {
        "id": "QDSyanvGLdKa"
      },
      "execution_count": 3,
      "outputs": []
    },
    {
      "cell_type": "code",
      "source": [
        "print(x.device)"
      ],
      "metadata": {
        "colab": {
          "base_uri": "https://localhost:8080/"
        },
        "id": "2aDaUif0Lk2a",
        "outputId": "17d43e9a-adca-4f87-aa76-ed0d5c533d79"
      },
      "execution_count": 4,
      "outputs": [
        {
          "output_type": "stream",
          "name": "stdout",
          "text": [
            "cuda:0\n"
          ]
        }
      ]
    },
    {
      "cell_type": "code",
      "source": [
        "x = torch.tensor([2,6,3,6,9,5,2,6,5,3], dtype=torch.float, device=torch.device(\"cuda:0\"))\n",
        "print(x.type())\n",
        "print(x.device)"
      ],
      "metadata": {
        "colab": {
          "base_uri": "https://localhost:8080/"
        },
        "id": "UHZtVfXCMXZm",
        "outputId": "87b867ef-0003-4cb4-f2f4-f728cae6890e"
      },
      "execution_count": 5,
      "outputs": [
        {
          "output_type": "stream",
          "name": "stdout",
          "text": [
            "torch.cuda.FloatTensor\n",
            "cuda:0\n"
          ]
        }
      ]
    },
    {
      "cell_type": "markdown",
      "source": [
        "Torch.tensor\n",
        "+ https://pytorch.org/docs/stable/tensors.html\n",
        "+ https://pytorch.org/docs/stable/torch.html\n",
        "\n",
        "Also Try:\n",
        "- torch.ones\n",
        "- torch.zeros\n",
        "- torch.nn.functional.one_hot\n",
        "  + https://pytorch.org/docs/stable/generated/torch.nn.functional.one_hot.html"
      ],
      "metadata": {
        "id": "kpyHMebjNTtZ"
      }
    },
    {
      "cell_type": "code",
      "source": [
        "W = torch.rand([10, 1], dtype = torch.float, device = torch.device(\"cuda:0\"), requires_grad=True)\n",
        "print(W)\n",
        "print(W.device)\n",
        "print(W.requires_grad)"
      ],
      "metadata": {
        "colab": {
          "base_uri": "https://localhost:8080/"
        },
        "id": "9OKksE4dNWsz",
        "outputId": "5472a3ec-a30b-48d0-b56c-1c264604e22d"
      },
      "execution_count": 6,
      "outputs": [
        {
          "output_type": "stream",
          "name": "stdout",
          "text": [
            "tensor([[0.2324],\n",
            "        [0.0106],\n",
            "        [0.5000],\n",
            "        [0.5943],\n",
            "        [0.4430],\n",
            "        [0.1806],\n",
            "        [0.8087],\n",
            "        [0.3514],\n",
            "        [0.1123],\n",
            "        [0.2456]], device='cuda:0', requires_grad=True)\n",
            "cuda:0\n",
            "True\n"
          ]
        }
      ]
    },
    {
      "cell_type": "code",
      "source": [
        "# matrix multiplication\n",
        "z = torch.matmul(x, W)\n",
        "print(z.shape)\n",
        "print(z.requires_grad)"
      ],
      "metadata": {
        "colab": {
          "base_uri": "https://localhost:8080/"
        },
        "id": "jLBHyJwxpAuq",
        "outputId": "02d5f1c7-3b42-470e-fa4d-8217a191cc1b"
      },
      "execution_count": 7,
      "outputs": [
        {
          "output_type": "stream",
          "name": "stdout",
          "text": [
            "torch.Size([1])\n",
            "True\n"
          ]
        }
      ]
    },
    {
      "cell_type": "markdown",
      "source": [
        "Also try:\n",
        "+ torch.bmm\n",
        "+ torch.addbmm\n",
        "+ torch.addmm\n",
        "+ torch.addmv\n",
        "+ torch.chain_matmul\n",
        "+ torch.mm\n",
        "+ torch.mv"
      ],
      "metadata": {
        "id": "mRS1ELeQqKuU"
      }
    },
    {
      "cell_type": "code",
      "source": [
        " h = torch.sigmoid(z)\n",
        " print(z.requires_grad)\n",
        " print(h.requires_grad)"
      ],
      "metadata": {
        "colab": {
          "base_uri": "https://localhost:8080/"
        },
        "id": "CmtgmbC5p4jh",
        "outputId": "db7d4863-8999-4918-a549-ab7bd0ae015e"
      },
      "execution_count": 8,
      "outputs": [
        {
          "output_type": "stream",
          "name": "stdout",
          "text": [
            "True\n",
            "True\n"
          ]
        }
      ]
    },
    {
      "cell_type": "code",
      "source": [
        "y = torch.tensor([0], dtype = torch.long, device = torch.device(\"cuda:0\"))"
      ],
      "metadata": {
        "id": "JcvvpsXiqEK3"
      },
      "execution_count": 9,
      "outputs": []
    },
    {
      "cell_type": "code",
      "source": [
        "loss = (y - h)**2 \n",
        "print(loss)"
      ],
      "metadata": {
        "colab": {
          "base_uri": "https://localhost:8080/"
        },
        "id": "QKYfJachrHTD",
        "outputId": "8b34e67e-f65b-4cbe-cb50-2b0d431a76bc"
      },
      "execution_count": 10,
      "outputs": [
        {
          "output_type": "stream",
          "name": "stdout",
          "text": [
            "tensor([1.0000], device='cuda:0', grad_fn=<PowBackward0>)\n"
          ]
        }
      ]
    },
    {
      "cell_type": "code",
      "source": [
        "loss.backward()"
      ],
      "metadata": {
        "id": "z-b1N6idretQ"
      },
      "execution_count": 11,
      "outputs": []
    },
    {
      "cell_type": "markdown",
      "source": [
        "$ h = σ(xW) $ \\\\\n",
        "\\\n",
        "$ loss = (y - h)^2 $ \\\\\n",
        "\\\n",
        "$\\frac{\\partial loss}{\\partial W} = \\frac{\\partial loss}{\\partial h} \\frac{\\partial h}{ \\partial W}$"
      ],
      "metadata": {
        "id": "90uoZ8Tquq95"
      }
    },
    {
      "cell_type": "code",
      "source": [
        "print(W.grad)"
      ],
      "metadata": {
        "colab": {
          "base_uri": "https://localhost:8080/"
        },
        "id": "FbbZvBuKruln",
        "outputId": "c16b806b-5ee4-48c9-cf32-73a38b1fbfdb"
      },
      "execution_count": 12,
      "outputs": [
        {
          "output_type": "stream",
          "name": "stdout",
          "text": [
            "tensor([[9.5367e-07],\n",
            "        [2.8610e-06],\n",
            "        [1.4305e-06],\n",
            "        [2.8610e-06],\n",
            "        [4.2915e-06],\n",
            "        [2.3842e-06],\n",
            "        [9.5367e-07],\n",
            "        [2.8610e-06],\n",
            "        [2.3842e-06],\n",
            "        [1.4305e-06]], device='cuda:0')\n"
          ]
        }
      ]
    },
    {
      "cell_type": "code",
      "source": [],
      "metadata": {
        "id": "oRkbWSEnuKkK"
      },
      "execution_count": 12,
      "outputs": []
    },
    {
      "cell_type": "markdown",
      "source": [
        "$ \\frac{\\partial loss} {\\partial h} = 2(y-h)$"
      ],
      "metadata": {
        "id": "ZDG1kIwav8gl"
      }
    },
    {
      "cell_type": "code",
      "source": [
        "with torch.no_grad():\n",
        "  dldh = 2*(y - h)\n",
        "  print(dldh)"
      ],
      "metadata": {
        "colab": {
          "base_uri": "https://localhost:8080/"
        },
        "id": "5R2p-U0LwKrW",
        "outputId": "55a2e2a3-65e6-4d29-c2fa-6e9da2acfc93"
      },
      "execution_count": 14,
      "outputs": [
        {
          "output_type": "stream",
          "name": "stdout",
          "text": [
            "tensor([-2.0000], device='cuda:0')\n"
          ]
        }
      ]
    },
    {
      "cell_type": "markdown",
      "source": [
        "$\\frac{\\partial h}{\\partial W} = \\sigma(Wx)(1 - \\sigma(Wx))x$"
      ],
      "metadata": {
        "id": "twYda2ISwevT"
      }
    },
    {
      "cell_type": "code",
      "source": [
        "with torch.no_grad():\n",
        "  dhdw = torch.sigmoid(z)*(1-torch.sigmoid(z))*x\n",
        "  print(dhdw)"
      ],
      "metadata": {
        "colab": {
          "base_uri": "https://localhost:8080/"
        },
        "id": "0nnVMODOxA_p",
        "outputId": "0d3f54d1-b286-4d2e-e19d-2b018d31ba1a"
      },
      "execution_count": 15,
      "outputs": [
        {
          "output_type": "stream",
          "name": "stdout",
          "text": [
            "tensor([4.7684e-07, 1.4305e-06, 7.1526e-07, 1.4305e-06, 2.1458e-06, 1.1921e-06,\n",
            "        4.7684e-07, 1.4305e-06, 1.1921e-06, 7.1526e-07], device='cuda:0')\n"
          ]
        }
      ]
    },
    {
      "cell_type": "code",
      "source": [
        "dldw = dldh * dhdw\n",
        "print(dldw)"
      ],
      "metadata": {
        "colab": {
          "base_uri": "https://localhost:8080/"
        },
        "id": "7Y7mNVHFxVyh",
        "outputId": "69413318-05d1-4a08-99d2-ce1098d5bba7"
      },
      "execution_count": 17,
      "outputs": [
        {
          "output_type": "stream",
          "name": "stdout",
          "text": [
            "tensor([-9.5367e-07, -2.8610e-06, -1.4305e-06, -2.8610e-06, -4.2915e-06,\n",
            "        -2.3842e-06, -9.5367e-07, -2.8610e-06, -2.3842e-06, -1.4305e-06],\n",
            "       device='cuda:0')\n"
          ]
        }
      ]
    },
    {
      "cell_type": "code",
      "source": [
        "print(W.grad)"
      ],
      "metadata": {
        "colab": {
          "base_uri": "https://localhost:8080/"
        },
        "id": "HGPfLGPWxen0",
        "outputId": "4ff697c8-407d-46e2-a2f5-63b4f9a1e00a"
      },
      "execution_count": 18,
      "outputs": [
        {
          "output_type": "stream",
          "name": "stdout",
          "text": [
            "tensor([[9.5367e-07],\n",
            "        [2.8610e-06],\n",
            "        [1.4305e-06],\n",
            "        [2.8610e-06],\n",
            "        [4.2915e-06],\n",
            "        [2.3842e-06],\n",
            "        [9.5367e-07],\n",
            "        [2.8610e-06],\n",
            "        [2.3842e-06],\n",
            "        [1.4305e-06]], device='cuda:0')\n"
          ]
        }
      ]
    },
    {
      "cell_type": "code",
      "source": [],
      "metadata": {
        "id": "JSyp7gefxlxY"
      },
      "execution_count": null,
      "outputs": []
    }
  ]
}