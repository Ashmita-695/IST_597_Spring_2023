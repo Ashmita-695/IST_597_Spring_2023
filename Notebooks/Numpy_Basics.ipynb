{
  "cells": [
    {
      "cell_type": "markdown",
      "id": "91f1a0a3-06bf-4006-8386-bbac3d9ea621",
      "metadata": {
        "tags": [],
        "id": "91f1a0a3-06bf-4006-8386-bbac3d9ea621"
      },
      "source": [
        "<h1><center>IST 597 Foundations of Deep Learning</center></h1>\n",
        "\n",
        "---\n",
        "\n",
        "<h2><center>Introduction to Numpy</center><h2>\n",
        "<h3><center>Neisarg Dave</center><h3>"
      ]
    },
    {
      "cell_type": "code",
      "execution_count": null,
      "id": "3dfc66e5-cebe-4331-b26a-aeb425b4c992",
      "metadata": {
        "id": "3dfc66e5-cebe-4331-b26a-aeb425b4c992"
      },
      "outputs": [],
      "source": [
        "import numpy as np"
      ]
    },
    {
      "cell_type": "code",
      "source": [
        "# define a vector\n",
        "x = np.array([1, 2, 3])"
      ],
      "metadata": {
        "id": "pMODxysHpRMU"
      },
      "id": "pMODxysHpRMU",
      "execution_count": null,
      "outputs": []
    },
    {
      "cell_type": "code",
      "source": [
        "# define a matrix\n",
        "W = np.array([[3, 2, 4], [2, 4, 6], [2,3,5]])"
      ],
      "metadata": {
        "id": "pUT7wQSUpc6V"
      },
      "id": "pUT7wQSUpc6V",
      "execution_count": null,
      "outputs": []
    },
    {
      "cell_type": "code",
      "source": [
        "print(x)"
      ],
      "metadata": {
        "colab": {
          "base_uri": "https://localhost:8080/"
        },
        "id": "xdTmQ2ZEqCvF",
        "outputId": "fe3ce651-14dd-45ab-f7fe-8b0f797e628e"
      },
      "id": "xdTmQ2ZEqCvF",
      "execution_count": null,
      "outputs": [
        {
          "output_type": "stream",
          "name": "stdout",
          "text": [
            "[1 2 3]\n"
          ]
        }
      ]
    },
    {
      "cell_type": "code",
      "source": [
        "print(W)"
      ],
      "metadata": {
        "colab": {
          "base_uri": "https://localhost:8080/"
        },
        "id": "FYTSq395qEmm",
        "outputId": "3a27cd86-1fe6-4172-e26d-386b1a456e59"
      },
      "id": "FYTSq395qEmm",
      "execution_count": null,
      "outputs": [
        {
          "output_type": "stream",
          "name": "stdout",
          "text": [
            "[[3 2 4]\n",
            " [2 4 6]\n",
            " [2 3 5]]\n"
          ]
        }
      ]
    },
    {
      "cell_type": "code",
      "source": [
        "# create a tensor by randomly sampling items\n",
        "\n",
        "y = np.random.normal(0, 0.1, [3,4,5])"
      ],
      "metadata": {
        "id": "hNRL_iTAqFm6"
      },
      "id": "hNRL_iTAqFm6",
      "execution_count": null,
      "outputs": []
    },
    {
      "cell_type": "code",
      "source": [
        "print(y)"
      ],
      "metadata": {
        "colab": {
          "base_uri": "https://localhost:8080/"
        },
        "id": "xJYojA9DqoyZ",
        "outputId": "b8051c48-b91b-4c31-ca33-5de9f9926843"
      },
      "id": "xJYojA9DqoyZ",
      "execution_count": null,
      "outputs": [
        {
          "output_type": "stream",
          "name": "stdout",
          "text": [
            "[[[ 0.03732673  0.01910664 -0.0477772   0.01092149 -0.13727826]\n",
            "  [-0.10904146  0.08789071  0.03527119  0.02249733  0.01392489]\n",
            "  [-0.01673353 -0.05173891  0.03604465  0.08247068  0.15900733]\n",
            "  [-0.01869403  0.11859939 -0.17065472 -0.00971685 -0.12654637]]\n",
            "\n",
            " [[-0.22836514  0.15077142 -0.04916937  0.09836347 -0.00060319]\n",
            "  [-0.00430319 -0.05227154  0.00592959 -0.21145796 -0.06713323]\n",
            "  [ 0.030606    0.13587376 -0.07285492  0.1899199  -0.0908815 ]\n",
            "  [ 0.00654115 -0.02034705 -0.00078861  0.01228811 -0.07431388]]\n",
            "\n",
            " [[ 0.1734298  -0.08835432 -0.0161402  -0.17751684  0.05741935]\n",
            "  [ 0.05563815 -0.05588137 -0.09211308  0.01369716 -0.11301392]\n",
            "  [-0.03035558  0.16213583 -0.16765074 -0.04628646  0.04527912]\n",
            "  [-0.00102507  0.03017409 -0.00832414 -0.00272386  0.00614011]]]\n"
          ]
        }
      ]
    },
    {
      "cell_type": "code",
      "source": [
        "# Indexing\n",
        "\n",
        "print(y[0])"
      ],
      "metadata": {
        "colab": {
          "base_uri": "https://localhost:8080/"
        },
        "id": "55wftHE0uX2b",
        "outputId": "05c89607-c9ab-4273-d557-ea2ec63510d3"
      },
      "id": "55wftHE0uX2b",
      "execution_count": null,
      "outputs": [
        {
          "output_type": "stream",
          "name": "stdout",
          "text": [
            "[[ 0.03732673  0.01910664 -0.0477772   0.01092149 -0.13727826]\n",
            " [-0.10904146  0.08789071  0.03527119  0.02249733  0.01392489]\n",
            " [-0.01673353 -0.05173891  0.03604465  0.08247068  0.15900733]\n",
            " [-0.01869403  0.11859939 -0.17065472 -0.00971685 -0.12654637]]\n"
          ]
        }
      ]
    },
    {
      "cell_type": "code",
      "source": [
        "print(y[0, 1])"
      ],
      "metadata": {
        "colab": {
          "base_uri": "https://localhost:8080/"
        },
        "id": "cOSoknEYue9F",
        "outputId": "7e004281-b431-49ec-9f8d-dd0c556ca2f4"
      },
      "id": "cOSoknEYue9F",
      "execution_count": null,
      "outputs": [
        {
          "output_type": "stream",
          "name": "stdout",
          "text": [
            "[-0.10904146  0.08789071  0.03527119  0.02249733  0.01392489]\n"
          ]
        }
      ]
    },
    {
      "cell_type": "code",
      "source": [
        "print(y[1, 1:-1])"
      ],
      "metadata": {
        "colab": {
          "base_uri": "https://localhost:8080/"
        },
        "id": "jHpD5K-7ujsH",
        "outputId": "fd824200-077f-4c54-8913-810442244305"
      },
      "id": "jHpD5K-7ujsH",
      "execution_count": null,
      "outputs": [
        {
          "output_type": "stream",
          "name": "stdout",
          "text": [
            "[[-0.06403809 -0.02710169  0.10787146 -0.06506309 -0.1381459 ]\n",
            " [ 0.01675156 -0.09052515  0.06529768  0.08843727  0.06415556]]\n"
          ]
        }
      ]
    },
    {
      "cell_type": "code",
      "source": [
        "# create a list of 10 vectors\n",
        "\n",
        "a = [np.random.randint(0, 9, size=[10]) for i in range(10)]\n",
        "print(a)\n"
      ],
      "metadata": {
        "colab": {
          "base_uri": "https://localhost:8080/"
        },
        "id": "-HIJoxwVqqem",
        "outputId": "a6a0eb86-7f68-43e2-da19-bae6844691c9"
      },
      "id": "-HIJoxwVqqem",
      "execution_count": null,
      "outputs": [
        {
          "output_type": "stream",
          "name": "stdout",
          "text": [
            "[array([1, 3, 2, 2, 8, 8, 4, 5, 2, 3]), array([7, 0, 8, 1, 0, 4, 1, 6, 7, 5]), array([7, 5, 7, 0, 7, 6, 3, 8, 3, 5]), array([4, 6, 2, 2, 0, 7, 8, 3, 5, 0]), array([8, 0, 4, 3, 3, 1, 8, 0, 6, 4]), array([0, 1, 7, 4, 3, 4, 8, 4, 5, 8]), array([0, 1, 6, 1, 0, 6, 5, 0, 4, 1]), array([0, 5, 2, 0, 5, 6, 1, 1, 7, 4]), array([5, 3, 2, 0, 0, 6, 0, 0, 8, 3]), array([8, 7, 6, 4, 1, 6, 0, 7, 8, 0])]\n"
          ]
        }
      ]
    },
    {
      "cell_type": "code",
      "source": [
        "print(len(a), a[0].shape)"
      ],
      "metadata": {
        "colab": {
          "base_uri": "https://localhost:8080/"
        },
        "id": "URa9XsicrRAX",
        "outputId": "798cb386-926c-4744-a932-d73b31fea05c"
      },
      "id": "URa9XsicrRAX",
      "execution_count": null,
      "outputs": [
        {
          "output_type": "stream",
          "name": "stdout",
          "text": [
            "10 (10,)\n"
          ]
        }
      ]
    },
    {
      "cell_type": "code",
      "source": [
        "# stack vectors in list\n",
        "stacked_0 = np.stack(a, axis=0)\n",
        "print(stacked_0)"
      ],
      "metadata": {
        "colab": {
          "base_uri": "https://localhost:8080/"
        },
        "id": "_zv1WdFBr-kI",
        "outputId": "4f6b3b6f-da9b-463d-d7f3-d14cc7aad375"
      },
      "id": "_zv1WdFBr-kI",
      "execution_count": null,
      "outputs": [
        {
          "output_type": "stream",
          "name": "stdout",
          "text": [
            "[[1 3 2 2 8 8 4 5 2 3]\n",
            " [7 0 8 1 0 4 1 6 7 5]\n",
            " [7 5 7 0 7 6 3 8 3 5]\n",
            " [4 6 2 2 0 7 8 3 5 0]\n",
            " [8 0 4 3 3 1 8 0 6 4]\n",
            " [0 1 7 4 3 4 8 4 5 8]\n",
            " [0 1 6 1 0 6 5 0 4 1]\n",
            " [0 5 2 0 5 6 1 1 7 4]\n",
            " [5 3 2 0 0 6 0 0 8 3]\n",
            " [8 7 6 4 1 6 0 7 8 0]]\n"
          ]
        }
      ]
    },
    {
      "cell_type": "code",
      "source": [
        "stacked_1 = np.stack(a, axis=1)\n",
        "print(stacked_1)"
      ],
      "metadata": {
        "colab": {
          "base_uri": "https://localhost:8080/"
        },
        "id": "tIY4j143tYpJ",
        "outputId": "cf3bd3cd-ba9d-42ff-aa46-d8a64a2efdeb"
      },
      "id": "tIY4j143tYpJ",
      "execution_count": null,
      "outputs": [
        {
          "output_type": "stream",
          "name": "stdout",
          "text": [
            "[[1 7 7 4 8 0 0 0 5 8]\n",
            " [3 0 5 6 0 1 1 5 3 7]\n",
            " [2 8 7 2 4 7 6 2 2 6]\n",
            " [2 1 0 2 3 4 1 0 0 4]\n",
            " [8 0 7 0 3 3 0 5 0 1]\n",
            " [8 4 6 7 1 4 6 6 6 6]\n",
            " [4 1 3 8 8 8 5 1 0 0]\n",
            " [5 6 8 3 0 4 0 1 0 7]\n",
            " [2 7 3 5 6 5 4 7 8 8]\n",
            " [3 5 5 0 4 8 1 4 3 0]]\n"
          ]
        }
      ]
    },
    {
      "cell_type": "code",
      "source": [
        "print(stacked_1.transpose())"
      ],
      "metadata": {
        "colab": {
          "base_uri": "https://localhost:8080/"
        },
        "id": "2FCLvCOEtcik",
        "outputId": "c9e77894-7d5e-408a-a3d3-57b00b939d1b"
      },
      "id": "2FCLvCOEtcik",
      "execution_count": null,
      "outputs": [
        {
          "output_type": "stream",
          "name": "stdout",
          "text": [
            "[[1 3 2 2 8 8 4 5 2 3]\n",
            " [7 0 8 1 0 4 1 6 7 5]\n",
            " [7 5 7 0 7 6 3 8 3 5]\n",
            " [4 6 2 2 0 7 8 3 5 0]\n",
            " [8 0 4 3 3 1 8 0 6 4]\n",
            " [0 1 7 4 3 4 8 4 5 8]\n",
            " [0 1 6 1 0 6 5 0 4 1]\n",
            " [0 5 2 0 5 6 1 1 7 4]\n",
            " [5 3 2 0 0 6 0 0 8 3]\n",
            " [8 7 6 4 1 6 0 7 8 0]]\n"
          ]
        }
      ]
    },
    {
      "cell_type": "code",
      "source": [
        "stacked_1.transpose() == stacked_0"
      ],
      "metadata": {
        "colab": {
          "base_uri": "https://localhost:8080/"
        },
        "id": "0rby2YuSt-_a",
        "outputId": "7f021ea3-e602-4a77-d68c-79b2fdf1297f"
      },
      "id": "0rby2YuSt-_a",
      "execution_count": null,
      "outputs": [
        {
          "output_type": "execute_result",
          "data": {
            "text/plain": [
              "array([[ True,  True,  True,  True,  True,  True,  True,  True,  True,\n",
              "         True],\n",
              "       [ True,  True,  True,  True,  True,  True,  True,  True,  True,\n",
              "         True],\n",
              "       [ True,  True,  True,  True,  True,  True,  True,  True,  True,\n",
              "         True],\n",
              "       [ True,  True,  True,  True,  True,  True,  True,  True,  True,\n",
              "         True],\n",
              "       [ True,  True,  True,  True,  True,  True,  True,  True,  True,\n",
              "         True],\n",
              "       [ True,  True,  True,  True,  True,  True,  True,  True,  True,\n",
              "         True],\n",
              "       [ True,  True,  True,  True,  True,  True,  True,  True,  True,\n",
              "         True],\n",
              "       [ True,  True,  True,  True,  True,  True,  True,  True,  True,\n",
              "         True],\n",
              "       [ True,  True,  True,  True,  True,  True,  True,  True,  True,\n",
              "         True],\n",
              "       [ True,  True,  True,  True,  True,  True,  True,  True,  True,\n",
              "         True]])"
            ]
          },
          "metadata": {},
          "execution_count": 17
        }
      ]
    },
    {
      "cell_type": "code",
      "source": [
        "x = np.arange(10)\n",
        "W = np.random.normal(0, 0.1, size = [6, 10])\n",
        "print(x)\n",
        "print(x.shape, W.shape)"
      ],
      "metadata": {
        "colab": {
          "base_uri": "https://localhost:8080/"
        },
        "id": "WyS2-eJruMrL",
        "outputId": "23ca23bd-916c-40de-9a52-a774d95b4086"
      },
      "id": "WyS2-eJruMrL",
      "execution_count": null,
      "outputs": [
        {
          "output_type": "stream",
          "name": "stdout",
          "text": [
            "[0 1 2 3 4 5 6 7 8 9]\n",
            "(10,) (6, 10)\n"
          ]
        }
      ]
    },
    {
      "cell_type": "code",
      "source": [
        "# matrix multiplication\n",
        "y = np.matmul(W, x)\n",
        "print(y.shape)\n",
        "print(y)"
      ],
      "metadata": {
        "colab": {
          "base_uri": "https://localhost:8080/"
        },
        "id": "hVBVFZvPwMbq",
        "outputId": "3b90f1c8-0688-4474-96bb-4491f4996183"
      },
      "id": "hVBVFZvPwMbq",
      "execution_count": null,
      "outputs": [
        {
          "output_type": "stream",
          "name": "stdout",
          "text": [
            "(6,)\n",
            "[-6.58710987 -0.61427265 -0.75192251 -0.45701643 -2.85868583  2.48842246]\n"
          ]
        }
      ]
    },
    {
      "cell_type": "code",
      "source": [
        "# Hadamard Product : Element Wise Product\n",
        "z = W*x\n",
        "print(z.shape)\n",
        "print(z)"
      ],
      "metadata": {
        "colab": {
          "base_uri": "https://localhost:8080/"
        },
        "id": "Y7Ha5phqwSEO",
        "outputId": "7812a8b7-7259-4a95-8b6f-1ddcaa425548"
      },
      "id": "Y7Ha5phqwSEO",
      "execution_count": null,
      "outputs": [
        {
          "output_type": "stream",
          "name": "stdout",
          "text": [
            "(6, 10)\n",
            "[[ 0.00000000e+00  3.32846803e-02  5.74861039e-02 -5.37780533e-01\n",
            "  -2.47698946e-01 -1.06166759e+00 -1.14196265e+00  6.64290854e-01\n",
            "  -2.56941836e+00 -1.78364344e+00]\n",
            " [ 0.00000000e+00  8.33086025e-02 -4.38063170e-02 -5.52087154e-01\n",
            "   5.09782839e-01  4.69463298e-01  8.21797457e-01  4.33027777e-02\n",
            "  -1.44511652e-01 -1.80152251e+00]\n",
            " [ 0.00000000e+00  9.35202647e-02  3.93598024e-02 -3.52738590e-01\n",
            "   5.14086354e-01 -3.99302660e-01  6.74784313e-01 -1.42180674e+00\n",
            "   6.48800584e-01 -5.48625832e-01]\n",
            " [-0.00000000e+00  3.61280520e-02 -1.15617142e-02  4.53197496e-01\n",
            "  -1.41621680e-01  1.41889336e-01 -5.90621898e-02 -2.67925291e-01\n",
            "   4.66280279e-01 -1.07434072e+00]\n",
            " [ 0.00000000e+00  4.24481286e-02  1.75249154e-01 -6.77933386e-04\n",
            "  -7.51481090e-01  5.46906713e-01 -9.65568795e-01 -4.13397547e-01\n",
            "  -1.45235697e+00 -3.98074906e-02]\n",
            " [ 0.00000000e+00  6.59696417e-02  4.11977470e-01 -3.11246711e-01\n",
            "  -1.24914788e-02  5.15178992e-03  6.39853301e-01  8.09702265e-01\n",
            "   3.95283565e-01  4.84222612e-01]]\n"
          ]
        }
      ]
    },
    {
      "cell_type": "code",
      "source": [
        "print(z[:, 1])"
      ],
      "metadata": {
        "colab": {
          "base_uri": "https://localhost:8080/"
        },
        "id": "Wan1QO9_wbAn",
        "outputId": "0869a8ac-b001-43c0-c905-40a1e803924b"
      },
      "id": "Wan1QO9_wbAn",
      "execution_count": null,
      "outputs": [
        {
          "output_type": "stream",
          "name": "stdout",
          "text": [
            "[0.03328468 0.0833086  0.09352026 0.03612805 0.04244813 0.06596964]\n"
          ]
        }
      ]
    },
    {
      "cell_type": "code",
      "source": [
        "print(z[:, 1])"
      ],
      "metadata": {
        "colab": {
          "base_uri": "https://localhost:8080/"
        },
        "id": "U2CTiJyHxCQh",
        "outputId": "48dd1177-d92d-4b4f-bd26-36e46062fdd2"
      },
      "id": "U2CTiJyHxCQh",
      "execution_count": null,
      "outputs": [
        {
          "output_type": "stream",
          "name": "stdout",
          "text": [
            "[-0.01440825 -0.06144244  0.12316328 -0.05065183 -0.04300129  0.03232346]\n"
          ]
        }
      ]
    },
    {
      "cell_type": "code",
      "source": [
        "print(z[:, 1] == W[:, 1])"
      ],
      "metadata": {
        "colab": {
          "base_uri": "https://localhost:8080/"
        },
        "id": "cyEBIfBbxFpd",
        "outputId": "2ad71791-f84d-4754-adfc-06c09c0ce9e3"
      },
      "id": "cyEBIfBbxFpd",
      "execution_count": null,
      "outputs": [
        {
          "output_type": "stream",
          "name": "stdout",
          "text": [
            "[ True  True  True  True  True  True]\n"
          ]
        }
      ]
    },
    {
      "cell_type": "code",
      "source": [],
      "metadata": {
        "id": "7psXdxhTxMS9"
      },
      "id": "7psXdxhTxMS9",
      "execution_count": null,
      "outputs": []
    }
  ],
  "metadata": {
    "kernelspec": {
      "display_name": "Python 3 (ipykernel)",
      "language": "python",
      "name": "python3"
    },
    "language_info": {
      "codemirror_mode": {
        "name": "ipython",
        "version": 3
      },
      "file_extension": ".py",
      "mimetype": "text/x-python",
      "name": "python",
      "nbconvert_exporter": "python",
      "pygments_lexer": "ipython3",
      "version": "3.9.13"
    },
    "colab": {
      "provenance": []
    }
  },
  "nbformat": 4,
  "nbformat_minor": 5
}