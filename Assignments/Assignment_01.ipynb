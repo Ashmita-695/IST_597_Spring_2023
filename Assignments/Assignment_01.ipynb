{
  "nbformat": 4,
  "nbformat_minor": 0,
  "metadata": {
    "colab": {
      "provenance": [],
      "collapsed_sections": [
        "3lammv9QCr78",
        "Sb0w8cl1FhqG",
        "0WLNOvtEIXyZ"
      ]
    },
    "kernelspec": {
      "name": "python3",
      "display_name": "Python 3"
    },
    "language_info": {
      "name": "python"
    }
  },
  "cells": [
    {
      "cell_type": "markdown",
      "source": [
        "<h1><center>IST 597 Foundations of Deep Learning</center></h1>\n",
        "\n",
        "---\n",
        "\n",
        "<h2><center>Assignment 01</center><h2>\n",
        "\n",
        "**Instructor** : Dr. C. Lee Giles <br>\n",
        "**TA** : Neisarg Dave, Shaurya Rohatgi\n",
        "<br><br>\n",
        "\n",
        "Credits: Thanks and credits to materials from UCL and GeorgiaTech\n",
        "\n",
        "<h3>Course Policy<h3>\n",
        "\n",
        "Carefully read all the instructions, before you start working on the assignment\n",
        "\n",
        "* Give maximum explanation for each sub-problems.\n",
        "\n",
        "* Assignments are due before class at 05:59:59 pm. Please check the due date on the official course webportalg Portal.\n",
        "\n",
        "* Please avoid single line answers, submissions without any explanations would receive 0 points.\n",
        "\n",
        "* Late submissions will be graded with 20% discount per day. Day 1 starts immediately after the submission deadline.\n",
        "\n",
        "* Every assignment has a hard deadline, usually 3 days past the original due date, i.e. Thursday after the due Monday\n",
        "\n",
        "* Late submissions (penalty or not) are not accepted after the hard deadline.\n",
        "\n",
        "* All source materials must be cited. The University Academic Code of Conduct will be strictly enforced.\n",
        "\n",
        "* We will be creating Canvas submission page for this. Submit all files on Canvas.\n",
        "\n",
        "* All queries related to Assignment should have a subject line *IST597:Assignment_01 Queries*\n",
        "\n",
        "---\n",
        "\n"
      ],
      "metadata": {
        "id": "FU6cmR_6HtW0"
      }
    },
    {
      "cell_type": "code",
      "source": [
        "#@\n",
        "Name = \"\"#@param {type:\"string\"}\n",
        "PSU_ID = \"\"#@param {type:\"string\"}"
      ],
      "metadata": {
        "cellView": "form",
        "id": "0FsSyWIwJTK9"
      },
      "execution_count": null,
      "outputs": []
    },
    {
      "cell_type": "markdown",
      "source": [
        "### Problem 1\n",
        "--------------\n",
        "\n",
        "Let $ \\ T:\\mathbb{R}^3 \\rightarrow \\mathbb{R}^4$ be defined by \\\n",
        "$$ Tx = \\begin{bmatrix}\n",
        "x_1 - 3x_3 \\\\\n",
        "x_1+x_2 -6x_3 \\\\\n",
        "x_2-3x_3 \\\\\n",
        "x_1 - 3x_3\n",
        "\\end{bmatrix} $$\n",
        "\n",
        "for every $x = \\begin{bmatrix} x_1 \\\\ x_2 \\\\ x_3 \\end{bmatrix} \\in \\mathbb{R}^3$ Then, \n"
      ],
      "metadata": {
        "id": "3lammv9QCr78"
      }
    },
    {
      "cell_type": "markdown",
      "source": [
        "1) Write $\\ T$ in matrix form.\n"
      ],
      "metadata": {
        "id": "aqo0DGm6EWHr"
      }
    },
    {
      "cell_type": "markdown",
      "source": [
        "*answer* :"
      ],
      "metadata": {
        "id": "L0sXsjp9EpEh"
      }
    },
    {
      "cell_type": "markdown",
      "source": [
        "2) $T(3, -2, 4)$ "
      ],
      "metadata": {
        "id": "XOVN3ALeEwYi"
      }
    },
    {
      "cell_type": "markdown",
      "source": [
        "*answer* :"
      ],
      "metadata": {
        "id": "nBCQL-VbE6Nw"
      }
    },
    {
      "cell_type": "markdown",
      "source": [
        "3) Is $\\ T$ linear? Why ?"
      ],
      "metadata": {
        "id": "YtcEV5PAFQrj"
      }
    },
    {
      "cell_type": "markdown",
      "source": [
        "*answer* :"
      ],
      "metadata": {
        "id": "eR-jjYPxFXqY"
      }
    },
    {
      "cell_type": "markdown",
      "source": [
        "### Problem 2\n",
        "--------------\n",
        "\n",
        "Consider the following function of $x = (x1, x2, x3, x4, x5, x6)$:\n",
        "\n",
        "$$\n",
        "f(x) = \\sigma \\Big(\\log \\Big(5  \\Big(max\\{x_1, x_2\\}.\\frac{x_3}{x_4} - (x_5+x_6 \\Big) \\Big) + \\frac{1}{2} \\Big)\n",
        "$$\n",
        "\n",
        "where $\\sigma$ is the sigmoid function\n",
        "\n",
        "$$\n",
        "  \\sigma(x) = \\frac{1}{1+e^{-x}}\n",
        "$$\n",
        "\n",
        "Compute the gradient $\\nabla_x f$ and evaluate it at $x = (-1, 3, 4, 5, -5, 7)$"
      ],
      "metadata": {
        "id": "Sb0w8cl1FhqG"
      }
    },
    {
      "cell_type": "markdown",
      "source": [
        "*answer* :"
      ],
      "metadata": {
        "id": "xiqJ5588IQy0"
      }
    },
    {
      "cell_type": "markdown",
      "source": [
        "### Problem 3\n",
        "-------------"
      ],
      "metadata": {
        "id": "0WLNOvtEIXyZ"
      }
    },
    {
      "cell_type": "markdown",
      "source": [
        "$a = [2, 6, 1, 9, 10, 3, 27, 5, 7, 14, 24, 3]$\n",
        "\n",
        "Get all items in range $(5, 10]$ from $a$\n",
        "\n",
        "Note: Use only indexing methods, do not use iteration or if conditions"
      ],
      "metadata": {
        "id": "XiFdZ9UAJFLa"
      }
    },
    {
      "cell_type": "code",
      "source": [
        "import numpy as np\n",
        "## write your code under this line:\n",
        "#----------------------------------"
      ],
      "metadata": {
        "id": "Vb2kvO7iJNb2"
      },
      "execution_count": 7,
      "outputs": []
    },
    {
      "cell_type": "markdown",
      "source": [
        "### Problem 4\n",
        "--------------\n",
        "\n",
        "Let \n",
        "\n",
        "$$x = [3, 4, 5]$$\n",
        "\n",
        "\n",
        "$$W = \\begin{bmatrix} 1 & 5 & 3 \\\\ 2 & 5 & 5 \\\\5 & 5 &1 \\end{bmatrix}$$\n",
        "\n",
        "Compute\n"
      ],
      "metadata": {
        "id": "1PSNy_wOKNx1"
      }
    },
    {
      "cell_type": "markdown",
      "source": [
        "1) $x^T$"
      ],
      "metadata": {
        "id": "G9MqsESFMIwM"
      }
    },
    {
      "cell_type": "code",
      "source": [
        "## write your code under this line:\n",
        "#----------------------------------"
      ],
      "metadata": {
        "id": "HwuNRK5ZKxuJ"
      },
      "execution_count": 8,
      "outputs": []
    },
    {
      "cell_type": "markdown",
      "source": [
        "2) $z = Wx^T$"
      ],
      "metadata": {
        "id": "PS1L_4-fMlcq"
      }
    },
    {
      "cell_type": "code",
      "source": [
        "## write your code under this line:\n",
        "#----------------------------------"
      ],
      "metadata": {
        "id": "tfVfn_AeMEz6"
      },
      "execution_count": 9,
      "outputs": []
    },
    {
      "cell_type": "markdown",
      "source": [
        "3) Write a function softmax:\n",
        "$$\n",
        "  softmax(x)_i = \\frac{e^{x_i}}{\\sum_j e^{x_j}}\n",
        "$$\n"
      ],
      "metadata": {
        "id": "P7gytEuzM9wm"
      }
    },
    {
      "cell_type": "code",
      "source": [
        "def softmax(x):\n",
        "  # x is a numpy array of length 3\n",
        "  ## write your code under this line:\n",
        "  #----------------------------------\n",
        "  \n",
        "  \n",
        "  res = None\n",
        "  return res  # return correct result\n",
        "\n",
        "\n"
      ],
      "metadata": {
        "id": "AdrEij6EMFr5"
      },
      "execution_count": 10,
      "outputs": []
    },
    {
      "cell_type": "markdown",
      "source": [
        "compute $softmax(z)$ :"
      ],
      "metadata": {
        "id": "ABBYBoNTOdek"
      }
    },
    {
      "cell_type": "code",
      "source": [
        "## write your code under this line:\n",
        "#----------------------------------"
      ],
      "metadata": {
        "id": "a58yF-4zOgHp"
      },
      "execution_count": 11,
      "outputs": []
    },
    {
      "cell_type": "markdown",
      "source": [
        "----------------------------"
      ],
      "metadata": {
        "id": "-7ktHv4MOkwn"
      }
    }
  ]
}