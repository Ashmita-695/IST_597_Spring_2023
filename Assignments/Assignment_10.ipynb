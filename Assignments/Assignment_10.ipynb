{
  "nbformat": 4,
  "nbformat_minor": 0,
  "metadata": {
    "colab": {
      "provenance": []
    },
    "kernelspec": {
      "name": "python3",
      "display_name": "Python 3"
    },
    "language_info": {
      "name": "python"
    },
    "accelerator": "GPU",
    "gpuClass": "standard"
  },
  "cells": [
    {
      "cell_type": "markdown",
      "source": [
        "<h1><center>IST 597 Foundations of Deep Learning</center></h1>\n",
        "\n",
        "---\n",
        "\n",
        "<h2><center>Assignment 10</center><h2>\n",
        "\n",
        "**Instructor** : Dr. C. Lee Giles <br>\n",
        "**TA** : Neisarg Dave, Shaurya Rohatgi\n",
        "<br><br>\n",
        "\n",
        "Credits: \n",
        "\n",
        "<h3>Course Policy<h3>\n",
        "\n",
        "Carefully read all the instructions, before you start working on the assignment\n",
        "\n",
        "* Give maximum explanation for each sub-problems.\n",
        "\n",
        "* Assignments are due before class at Monday 05:59:59 pm. Please check the due date on the official course webportalg Portal.\n",
        "\n",
        "* Please avoid single line answers, submissions without any explanations would receive 0 points.\n",
        "\n",
        "* Late submissions will be graded with 20% discount per day. Day 1 starts immediately after the submission deadline.\n",
        "\n",
        "* Every assignment has a hard deadline, usually 3 days past the original due date, i.e. Thursday after the due Monday\n",
        "\n",
        "* Late submissions (penalty or not) are not accepted after the hard deadline.\n",
        "\n",
        "* All source materials must be cited. The University Academic Code of Conduct will be strictly enforced.\n",
        "\n",
        "* We will be creating Canvas submission page for this. Submit all files on Canvas.\n",
        "\n",
        "* All queries related to Assignment should have a subject line *IST597:Assignment_10 Queries*\n",
        "\n",
        "---\n"
      ],
      "metadata": {
        "id": "WgzYdyhY4_mN"
      }
    },
    {
      "cell_type": "markdown",
      "source": [
        "<h2><center>Multi Layer Perceptron</center><h2>\n",
        "\n",
        "Multiplayer Perceptron is a feed forward neural network composed of multiple layers of affine transformations followed by non linearity function. Each layer of an MLP is defined as:\n",
        "$$\n",
        "z^{(l)} = W^{(l)}x^{(l-1)} + b^{(l)}\n",
        "$$ \n",
        "\n",
        "$$\n",
        "x^{(l)} = f(z^{(l)})\n",
        "$$\n",
        "\n",
        "Here, $l$ denotes the layer of MLP, $W$ and $b$ are the trainable parameters called *weight* and *bias* respectively\n",
        "\n",
        "ReLU or Rectified Linear Unit is the most common non linear layer used with MLP.\n",
        "More about ReLU can be found here: https://pytorch.org/docs/stable/generated/torch.nn.ReLU.html"
      ],
      "metadata": {
        "id": "40nCWOmj7Xjz"
      }
    },
    {
      "cell_type": "markdown",
      "source": [
        "In this assignment you are required to do the following:\n",
        "\n",
        "+ Create an MLP\n",
        "  + Write the *forward* function for affine transformation\n",
        "  + Write the *backward* function (to calculate gradients) for the affine transformation\n",
        "  + Create a Neural Network by stacking these transformations\n",
        "\n",
        "+ Train the Neural Network on Fashion MNIST Dataset\n",
        "  + Write Loss Function for the training\n",
        "  + Write parameter update routine\n",
        "  + Run Validation \n",
        "  + Plot Train and Validation Loss Curves using Matplotlib \n",
        "\n",
        "+ Testing the Neural Network\n",
        "  + Change the *seed* and train the neural network 10 times\n",
        "  + Report the mean and variance over 10 trials on the following metrics:\n",
        "    + Accuracy\n",
        "    + Precision\n",
        "    + Recall\n",
        "    + F1\n",
        "    + ROC curve\n",
        "\n",
        "+ Change the number of parameters in the Neural Network \n",
        "  + Train a underfit model\n",
        "  + Train a overfit model\n",
        "  + Demostrate the difference between overfitting and underfitting\n"
      ],
      "metadata": {
        "id": "ekbdxA4KtmSS"
      }
    },
    {
      "cell_type": "code",
      "source": [
        "import torch\n",
        "import random\n",
        "from torch.utils.data import Dataset\n",
        "from torchvision import datasets\n",
        "from torchvision.transforms import ToTensor\n",
        "import matplotlib.pyplot as plt\n",
        "\n",
        "# select device as cuda\n",
        "device = torch.device(\"cuda:0\")\n",
        "\n",
        "# set random seeds\n",
        "seed = 1234 ## change this seed when you run trials\n",
        "random.seed(seed)\n",
        "torch.manual_seed(seed)"
      ],
      "metadata": {
        "colab": {
          "base_uri": "https://localhost:8080/"
        },
        "id": "RJYSA_Cm1fnV",
        "outputId": "6bdcb4e7-a0c2-4c39-c49f-ef3505b41d44"
      },
      "execution_count": 1,
      "outputs": [
        {
          "output_type": "execute_result",
          "data": {
            "text/plain": [
              "<torch._C.Generator at 0x7fa659959d10>"
            ]
          },
          "metadata": {},
          "execution_count": 1
        }
      ]
    },
    {
      "cell_type": "markdown",
      "source": [
        "### Gradient Update\n",
        "To update gradients, from the equation of affine transformation we have:\n",
        "\n",
        "$$\n",
        "z^{(l)} = W^{(l)}x^{(l-1)} + b\n",
        "$$ \n",
        "\n",
        "We can calulate all the partial derivations in the following fashion\n",
        "\n",
        "$$\n",
        "\\frac{\\partial z^{(l)}}{\\partial x^{(l-1)}} = W^{(l)}\n",
        "$$\n",
        "\n",
        "$$\n",
        "\\frac{\\partial z^{(l)}}{\\partial W^{(l)}} = x^{(l-1)}\n",
        "$$\n",
        "\n",
        "$$\n",
        "\\frac{\\partial z^{(l)}}{\\partial b^{(l)}} = 1\n",
        "$$\n",
        "\n",
        "To write the *backward* function, we need one more step. *backward* functon takes *grad_output* as its input. It is the backward flow of gradients coming from the final output $\\hat y$ and can be mathematically expressed as:\n",
        "$$\n",
        "  grad\\_output = \\frac{\\partial \\hat y}{\\partial z^{(l)}}\n",
        "$$\n",
        "\n",
        "*backward* functions gives out three values:\n",
        "\n",
        "$$\n",
        "grad\\_x = \\frac{\\partial \\hat y}{\\partial x^{(l-1)}} = \\frac{\\partial \\hat y}{\\partial z^{(l)}} \\frac{\\partial z^{(l)}}{\\partial x^{(l-1)}} \n",
        "$$\n",
        "\n",
        "$$\n",
        "grad\\_w = \\frac{\\partial \\hat y}{\\partial W^{(l)}} = \\frac{\\partial \\hat y}{\\partial z^{(l)}} \\frac{\\partial z^{(l)}}{\\partial W^{(l)}}\n",
        "$$\n",
        "\n",
        "\n",
        "$$\n",
        "grad\\_b = \\frac{\\partial \\hat y}{\\partial b^{(l)}} =  \\frac{\\partial \\hat y}{\\partial z^{(l)}} \\frac{\\partial z^{(l)}}{\\partial b^{(l)}}\n",
        "$$\n",
        "\n",
        "In the code below, update the *forward* and *backward* functions of class LinearFunction\n"
      ],
      "metadata": {
        "id": "CVBLiKBUxK68"
      }
    },
    {
      "cell_type": "code",
      "source": [
        "class LinearFunction(torch.autograd.Function):\n",
        "  @staticmethod\n",
        "  def forward(ctx, x, W, b):\n",
        "    \"\"\"\n",
        "    # x -> input matrix of size n_samples x sdim\n",
        "    # W -> transformation matrix\n",
        "    # b -> bias term \n",
        "    \"\"\"\n",
        "    ctx.save_for_backward(x, W, b)\n",
        "    # Write your affine transformation here:\n",
        "    #-------------------\n",
        "    z = None\n",
        "    #-------------------\n",
        "    return z\n",
        "    \n",
        "  @staticmethod\n",
        "  def backward(ctx, grad_output):\n",
        "    x, W, b = ctx.saved_tensors\n",
        "   \n",
        "    # Write gradient updates here:\n",
        "    #----------------------------\n",
        "    grad_x = None\n",
        "    grad_w = None\n",
        "    grad_b = None\n",
        "    #-----------------------------\n",
        "    return grad_x, grad_w, grad_b\n"
      ],
      "metadata": {
        "id": "pcgiaXw35f71"
      },
      "execution_count": 6,
      "outputs": []
    },
    {
      "cell_type": "markdown",
      "source": [
        "Class CustomLinearLayer uses previously defined LinearFunction to create one layer of Neural Network. Look at the initial values given to $W$ and $b$.\n",
        "You do not need to change anything in this class."
      ],
      "metadata": {
        "id": "f0-GkEJs19ml"
      }
    },
    {
      "cell_type": "code",
      "source": [
        "class CustomLinearLayer(torch.nn.Module):\n",
        "  def __init__(self, in_features, out_features):\n",
        "    super(CustomLinearLayer, self).__init__()\n",
        "    self.in_features = in_features\n",
        "    self.out_features = out_features\n",
        "    w = torch.normal(mean = 0, std = 0.1, size = [in_features, out_features], requires_grad=True)\n",
        "    b = torch.full([out_features], 0.01, requires_grad=True)\n",
        "    w = torch.nn.Parameter(w)\n",
        "    b = torch.nn.Parameter(b)\n",
        "    self.register_parameter('w', w)\n",
        "    self.register_parameter('b', b)\n",
        "    self.linear_function = LinearFunction.apply\n",
        "  \n",
        "  def forward(self, x):\n",
        "    return self.linear_function(x, self.w, self.b)"
      ],
      "metadata": {
        "id": "ksWyV7mSK15f"
      },
      "execution_count": 7,
      "outputs": []
    },
    {
      "cell_type": "markdown",
      "source": [
        "In the Neural Network class below class Below, Add two linear layers of the following sizes:\n",
        "+ 784 x 512\n",
        "+ 512 x 10\n",
        "\n",
        "In the forward function, \n",
        "+ Apply layer_1 on input\n",
        "+ Apply activation function on the result\n",
        "+ Apply layer_2 on the result\n",
        "+ Apply Softmax and return the final result"
      ],
      "metadata": {
        "id": "rXWwi0a02frQ"
      }
    },
    {
      "cell_type": "code",
      "source": [
        "class NeuralNetwork(torch.nn.Module):\n",
        "  def __init__(self):\n",
        "    super(NeuralNetwork, self).__init__()\n",
        "    # Add Linear layers below \n",
        "    #-----------------------------------\n",
        "    self.layer_1 = None\n",
        "    self.layer_2 = None\n",
        "    # ------------------------------------\n",
        "    self.activation = torch.nn.ReLU()\n",
        "    self.softmax = torch.nn.Softmax(dim=-1)\n",
        "  \n",
        "  def forward(self, x):\n",
        "    # Apply layers defined above:\n",
        "    #-------------------------------\n",
        "    output = None\n",
        "    #-------------------------------\n",
        "    return output"
      ],
      "metadata": {
        "id": "E5M3gwT7LDLy"
      },
      "execution_count": 8,
      "outputs": []
    },
    {
      "cell_type": "markdown",
      "source": [
        "Fasion MNIST dataset is a set of grayscale images categorized into 10 classes. To train our neural network, first we need to define loss function. $y$ is the ground truth class label and $probs$ is the probability distribution given by our Neural Network over 10 classes, update the *forward* function of loss class below. \n",
        "\n",
        "$$\n",
        "ce\\_loss = \\frac{1}{{\\#samples}}\\sum^{\\#samples}_i y_i.\\log(probs_i)\n",
        "$$\n",
        "\n",
        "*Hint*: Try representing $y$ as one hot vector"
      ],
      "metadata": {
        "id": "pH5-K2PP33lK"
      }
    },
    {
      "cell_type": "code",
      "source": [
        "class CrossEntropyLoss(torch.nn.Module):\n",
        "  def __init__(self):\n",
        "    super(CrossEntropyLoss, self).__init__()\n",
        "  \n",
        "  def forward(self, probs, y):\n",
        "    #Write loss function here:\n",
        "    #-------------------------------\n",
        "    loss = None\n",
        "    #-------------------------------\n",
        "    return loss"
      ],
      "metadata": {
        "id": "Mme5RblpOpYf"
      },
      "execution_count": 9,
      "outputs": []
    },
    {
      "cell_type": "code",
      "source": [
        "training_data = datasets.FashionMNIST(\n",
        "    root=\"data\",\n",
        "    train=True,\n",
        "    download=True,\n",
        "    transform=ToTensor()\n",
        ")\n",
        "\n",
        "test_data = datasets.FashionMNIST(\n",
        "    root=\"data\",\n",
        "    train=False,\n",
        "    download=True,\n",
        "    transform=ToTensor()\n",
        ")"
      ],
      "metadata": {
        "id": "9OvSv0bazhlg"
      },
      "execution_count": 2,
      "outputs": []
    },
    {
      "cell_type": "code",
      "source": [
        "labels_map = {\n",
        "    0: \"T-Shirt\",\n",
        "    1: \"Trouser\",\n",
        "    2: \"Pullover\",\n",
        "    3: \"Dress\",\n",
        "    4: \"Coat\",\n",
        "    5: \"Sandal\",\n",
        "    6: \"Shirt\",\n",
        "    7: \"Sneaker\",\n",
        "    8: \"Bag\",\n",
        "    9: \"Ankle Boot\",\n",
        "}\n",
        "figure = plt.figure(figsize=(8, 8))\n",
        "cols, rows = 3, 3\n",
        "for i in range(1, cols * rows + 1):\n",
        "    sample_idx = torch.randint(len(training_data), size=(1,)).item()\n",
        "    img, label = training_data[sample_idx]\n",
        "    figure.add_subplot(rows, cols, i)\n",
        "    plt.title(labels_map[label])\n",
        "    plt.axis(\"off\")\n",
        "    plt.imshow(img.squeeze(), cmap=\"gray\")\n",
        "plt.show()"
      ],
      "metadata": {
        "colab": {
          "base_uri": "https://localhost:8080/",
          "height": 482
        },
        "id": "EleFGZ8W4wGM",
        "outputId": "851010c3-6d4e-49c3-8ca6-db1ac2137174"
      },
      "execution_count": 3,
      "outputs": [
        {
          "output_type": "display_data",
          "data": {
            "text/plain": [
              "<Figure size 576x576 with 9 Axes>"
            ],
            "image/png": "[encoded data removed]"
          },
          "metadata": {
            "needs_background": "light"
          }
        }
      ]
    },
    {
      "cell_type": "markdown",
      "source": [
        "Fashion MNIST dataset loaded from pytorch APIs only has two sets: train and test. Split the train data into train and validation sets with 50K samples in train and 10K samples in validation set. The data split should be random.\n",
        "\n",
        "*Hint* Look for a function in *torch.utils.data*"
      ],
      "metadata": {
        "id": "sZ90GGxc58X5"
      }
    },
    {
      "cell_type": "code",
      "source": [
        "# split mnist trainset into two sets: mnist trainset -> 50000 , mnist validation set -> 10000\n",
        "#----------------\n",
        "train_data, val_data = None\n",
        "\n",
        "#----------------"
      ],
      "metadata": {
        "id": "BachxlStz4E1"
      },
      "execution_count": 4,
      "outputs": []
    },
    {
      "cell_type": "code",
      "source": [
        "train_data[0][0].shape"
      ],
      "metadata": {
        "colab": {
          "base_uri": "https://localhost:8080/"
        },
        "id": "GSeXx9qL66UU",
        "outputId": "1f00da6e-018f-4cc1-9768-5961cfc59a29"
      },
      "execution_count": 5,
      "outputs": [
        {
          "output_type": "execute_result",
          "data": {
            "text/plain": [
              "torch.Size([1, 28, 28])"
            ]
          },
          "metadata": {},
          "execution_count": 5
        }
      ]
    },
    {
      "cell_type": "code",
      "source": [
        "model = NeuralNetwork().cuda()\n",
        "ce_loss = CrossEntropyLoss()"
      ],
      "metadata": {
        "id": "LbhN71ej1Ry8"
      },
      "execution_count": 11,
      "outputs": []
    },
    {
      "cell_type": "markdown",
      "source": [
        "1) The gradients we calculated in the start can be accessed by iterating over model.parameters() as *params.grad*. Write the parameter update rule in the training code below: \n",
        "\n",
        "$$\n",
        "param := param - learning\\_rate*gradient\n",
        "$$\n",
        "\n",
        "2) Write validation loop which runs every epoch and prints the following metrics on validation set:\n",
        "  + Accuracy\n",
        "  + Precision\n",
        "  + Recall\n",
        "  + F1 \n",
        "  + roc_auc\n",
        "\n",
        "3) Store the training loss and validation loss in each iteration and plot a graph comparing them."
      ],
      "metadata": {
        "id": "Qh0sY9487KoF"
      }
    },
    {
      "cell_type": "code",
      "source": [
        "from torch.utils.data import DataLoader\n",
        "\n",
        "batch_size = 1024\n",
        "train_loader = DataLoader(train_data, batch_size=batch_size)\n",
        "test_loader = DataLoader(test_data, batch_size=batch_size)\n",
        "valid_loader = DataLoader(val_data, batch_size=batch_size)\n",
        "max_epochs = 10\n",
        "learning_rate = 0.01\n",
        "\n",
        "for epoch in range(max_epochs):\n",
        "  for idx, data in enumerate(train_loader):\n",
        "    features, labels = data\n",
        "\n",
        "    features = features.cuda()\n",
        "\n",
        "    labels = labels.cuda()\n",
        "    probs = model(features.reshape([-1, 784]))\n",
        "\n",
        "    loss = ce_loss(probs, labels)\n",
        "    print(\"Epoch {0}/{1} Iteration {2}/{3} Loss {4}: \".format(epoch, max_epochs, idx, len(train_loader), loss))\n",
        "\n",
        "    for param in model.parameters():\n",
        "      param.grad = None\n",
        "\n",
        "    loss.backward()\n",
        "\n",
        "    for name, param in model.named_parameters():\n",
        "      # Write paramtere update routine here:\n",
        "      # --------------\n",
        "      new_param = None\n",
        "      \n",
        "      # --------------\n",
        "      with torch.no_grad():\n",
        "        param.copy_(new_param)\n",
        "\n",
        "  # Write Validation routine here: \n",
        "  #----------------------------\n",
        "    \n",
        "\n",
        "\n"
      ],
      "metadata": {
        "id": "uNL16slmMTST"
      },
      "execution_count": null,
      "outputs": []
    },
    {
      "cell_type": "markdown",
      "source": [
        "Testing the Neural Network\n",
        "  + Change the *seed* and train the neural network 10 times\n",
        "  + Report the mean and variance over 10 trials on the following metrics:\n",
        "    + Accuracy\n",
        "    + Precision\n",
        "    + Recall\n",
        "    + F1\n",
        "    + ROC curve\n",
        "\n"
      ],
      "metadata": {
        "id": "JXV_Q44g9ese"
      }
    },
    {
      "cell_type": "code",
      "source": [
        "## Write Relevant training and reporting code here:\n",
        "#----------------------------------------------------"
      ],
      "metadata": {
        "id": "wCBNOBOK9o1w"
      },
      "execution_count": null,
      "outputs": []
    },
    {
      "cell_type": "markdown",
      "source": [
        "+ Change the number of parameters in the Neural Network \n",
        "  + Train an underfit model\n",
        "  + Train a overfit model\n",
        "  + Demostrate the difference between overfitting and underfitting. Give detailed reasoning."
      ],
      "metadata": {
        "id": "0W6ZCfma9iTr"
      }
    },
    {
      "cell_type": "code",
      "source": [
        "## Create new models here with different number of parameters, discuss and demonstrate underfitting and overfitting in NN\n",
        "#----------------------------------------------------"
      ],
      "metadata": {
        "id": "BsBJEuAn9hVr"
      },
      "execution_count": 13,
      "outputs": []
    },
    {
      "cell_type": "code",
      "source": [],
      "metadata": {
        "id": "rUQsfRjd-D7_"
      },
      "execution_count": null,
      "outputs": []
    }
  ]
}